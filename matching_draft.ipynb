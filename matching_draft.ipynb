{
 "cells": [
  {
   "cell_type": "code",
   "execution_count": 2,
   "id": "0d71dba9",
   "metadata": {},
   "outputs": [],
   "source": [
    "import pandas as pd\n",
    "import cem as cem"
   ]
  },
  {
   "cell_type": "code",
   "execution_count": 1,
   "id": "e0f756a1",
   "metadata": {},
   "outputs": [],
   "source": [
    "# same discipline"
   ]
  },
  {
   "cell_type": "code",
   "execution_count": 3,
   "id": "06fe9255",
   "metadata": {},
   "outputs": [],
   "source": [
    "# same gender\n",
    "# determine using genderize?"
   ]
  },
  {
   "cell_type": "code",
   "execution_count": 4,
   "id": "6668a019",
   "metadata": {},
   "outputs": [],
   "source": [
    "# rank of first known affiliation"
   ]
  },
  {
   "cell_type": "code",
   "execution_count": 5,
   "id": "2f627362",
   "metadata": {},
   "outputs": [],
   "source": [
    "# publication year difference < 3"
   ]
  },
  {
   "cell_type": "code",
   "execution_count": null,
   "id": "dce6a7bd",
   "metadata": {},
   "outputs": [],
   "source": []
  }
 ],
 "metadata": {
  "kernelspec": {
   "display_name": "Python 3",
   "language": "python",
   "name": "python3"
  },
  "language_info": {
   "codemirror_mode": {
    "name": "ipython",
    "version": 3
   },
   "file_extension": ".py",
   "mimetype": "text/x-python",
   "name": "python",
   "nbconvert_exporter": "python",
   "pygments_lexer": "ipython3",
   "version": "3.9.12"
  }
 },
 "nbformat": 4,
 "nbformat_minor": 5
}
