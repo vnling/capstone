{
 "cells": [
  {
   "cell_type": "code",
   "execution_count": 1,
   "id": "f7b3e95a",
   "metadata": {},
   "outputs": [],
   "source": [
    "import pandas as pd"
   ]
  },
  {
   "cell_type": "code",
   "execution_count": null,
   "id": "3392b44b",
   "metadata": {},
   "outputs": [],
   "source": [
    "#code run on HPC to get papers written by editors & relevant metadata \n",
    "\n",
    "papers_editors = pd.read_csv(\"PaperAuthorAffiliations.csv\", sep=\"\\t\")\n",
    "papers_fields = pd.DataFrame()\n",
    "papers_editors_fields = pd.DataFrame()\n",
    "\n",
    "ROWS_TO_LOAD = 10000000\n",
    "counter = 0\n",
    "\n",
    "while (1):\n",
    "    papers_fields = pd.read_csv(\"PaperFieldsOfStudy.txt\", sep=\"\\t\", nrows=ROWS_TO_LOAD, skiprows=counter*ROWS_TO_LOAD, header=None)\n",
    "    papers_fields.rename(columns={0: 'PaperId', 1: 'FieldId', 2: 'Score'}, inplace=True)\n",
    "    temp = pd.merge(papers_editors, papers_fields, on='PaperId', how='inner')\n",
    "    papers_editors_fields = pd.concat([papers_editors_fields, temp], ignore_index=True)\n",
    "    counter += 1\n",
    "    if papers_fields.shape[0] < ROWS_TO_LOAD:\n",
    "        break\n",
    "\n",
    "papers_editors_fields.to_csv(\"editors_and_their_papers.csv\")"
   ]
  }
 ],
 "metadata": {
  "kernelspec": {
   "display_name": "Python 3",
   "language": "python",
   "name": "python3"
  },
  "language_info": {
   "codemirror_mode": {
    "name": "ipython",
    "version": 3
   },
   "file_extension": ".py",
   "mimetype": "text/x-python",
   "name": "python",
   "nbconvert_exporter": "python",
   "pygments_lexer": "ipython3",
   "version": "3.9.12"
  }
 },
 "nbformat": 4,
 "nbformat_minor": 5
}
