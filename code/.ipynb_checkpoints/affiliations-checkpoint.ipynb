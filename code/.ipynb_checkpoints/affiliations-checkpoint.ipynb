{
 "cells": [
  {
   "cell_type": "markdown",
   "id": "fa27bfd9",
   "metadata": {},
   "source": [
    "## Questions\n",
    "\n",
    "I assume the affiliation should be for the year when the author published/the editor was an editor? Is that available in MAG?\n",
    "\n",
    "Difference between `OriginalAffiliation` (in PaperAuthorAffiliations) and `LastKnownAffiliationId` (in Authors)? How would I get `OriginalAffiliation` for editors?"
   ]
  },
  {
   "cell_type": "markdown",
   "id": "68051f7b",
   "metadata": {},
   "source": [
    "### To Do\n",
    "\n",
    "- Bucketize years for each affiliation bin\n",
    "- Plot on area chart (separate for now)"
   ]
  },
  {
   "cell_type": "code",
   "execution_count": 90,
   "id": "8178f24b",
   "metadata": {},
   "outputs": [],
   "source": [
    "import numpy as np\n",
    "import pandas as pd\n",
    "import matplotlib.pyplot as plt\n",
    "import seaborn as so"
   ]
  },
  {
   "cell_type": "code",
   "execution_count": 80,
   "id": "a20da905",
   "metadata": {},
   "outputs": [],
   "source": [
    "def rebin(row):\n",
    "    if row['rank'].isdigit() and 1 <= int(row['rank']) <= 10:\n",
    "        val = '1-10'\n",
    "    elif row['rank'].isdigit() and  11 <= int(row['rank']) <= 50:\n",
    "        val = '11-50'\n",
    "    elif row['rank'].isdigit() and  51 <= int(row['rank']) <= 100:\n",
    "        val = '51-100'\n",
    "    elif (row['rank'] == '101-150')|(row['rank'] == '151-200'):\n",
    "        val = '101-200'\n",
    "    elif (row['rank'] == '201-300')|(row['rank'] == '301-400')|(row['rank'] == '401-500'):\n",
    "        val = '201-500'\n",
    "    elif (row['rank'] == '501-600')|(row['rank'] == '601-700')|(row['rank'] == '701-800')|(row['rank'] == '801-900')|(row['rank'] == '901-1000'):\n",
    "        val = '501-1000'\n",
    "    elif row['rank'] == '1000+':\n",
    "        val = '1000+'\n",
    "    else:\n",
    "        val = 'other'\n",
    "    return val"
   ]
  },
  {
   "cell_type": "code",
   "execution_count": 83,
   "id": "bd3d4940",
   "metadata": {},
   "outputs": [],
   "source": [
    "def bucketize_affiliations(author_data, editor_data, affiliation_rank):\n",
    "    authors = pd.read_csv(author_data).drop(labels=['Unnamed: 0'], axis=1)\n",
    "    editors = pd.read_csv(editor_data).drop(labels=['Unnamed: 0'], axis=1)\n",
    "    ranks = pd.read_csv(affiliation_rank).drop(labels=['Unnamed: 0'], axis=1)\n",
    "    \n",
    "    authors = authors.dropna(subset=['LastKnownAffiliationId'])\n",
    "    editors = editors.dropna(subset=['LastKnownAffiliationId'])\n",
    "    \n",
    "    author_bins = authors.join(ranks.set_index('AffID'), on='LastKnownAffiliationId', how='left', rsuffix='_bin')\n",
    "    editor_bins = editors.join(ranks.set_index('AffID'), on='LastKnownAffiliationId', how='left', rsuffix='_bin')\n",
    "    \n",
    "    author_bins = author_bins.fillna(value={\"rank\":\"1000+\"})\n",
    "    editor_bins = editor_bins.fillna(value={\"rank\":\"1000+\"})\n",
    "    author_bins['newBins'] = author_bins.apply(rebin, axis=1)\n",
    "    editor_bins['newBins'] = editor_bins.apply(rebin, axis=1)\n",
    "    \n",
    "    return author_bins['newBins'].value_counts(), editor_bins['newBins'].value_counts()"
   ]
  },
  {
   "cell_type": "code",
   "execution_count": 87,
   "id": "5de17e55",
   "metadata": {},
   "outputs": [],
   "source": [
    "def call_bucketize_affiliations(journal):\n",
    "    return bucketize_affiliations(f\"./../author_data/cleaned/{journal}_authors_cleaned.csv\",\n",
    "                                  f\"./../mag_processed/random_duplicates/{journal}_random_duplicates.csv\",\n",
    "                                  f\"./../normaffil_topuniversities_ranking_2019.csv\")\n",
    "    "
   ]
  },
  {
   "cell_type": "code",
   "execution_count": 88,
   "id": "f8b30dd9",
   "metadata": {},
   "outputs": [],
   "source": [
    "aer_authors, aer_editors = call_bucketize_affiliations(\"aer\")"
   ]
  },
  {
   "cell_type": "code",
   "execution_count": 92,
   "id": "dcc78aad",
   "metadata": {},
   "outputs": [
    {
     "data": {
      "text/plain": [
       "newBins\n",
       "1-10        91\n",
       "11-50       86\n",
       "1000+       84\n",
       "101-200     38\n",
       "51-100      38\n",
       "201-500     38\n",
       "501-1000    14\n",
       "Name: count, dtype: int64"
      ]
     },
     "execution_count": 92,
     "metadata": {},
     "output_type": "execute_result"
    }
   ],
   "source": [
    "aer_authors"
   ]
  },
  {
   "cell_type": "code",
   "execution_count": 93,
   "id": "e069998e",
   "metadata": {},
   "outputs": [
    {
     "ename": "AttributeError",
     "evalue": "'Series' object has no attribute 'counts'",
     "output_type": "error",
     "traceback": [
      "\u001b[0;31m---------------------------------------------------------------------------\u001b[0m",
      "\u001b[0;31mAttributeError\u001b[0m                            Traceback (most recent call last)",
      "Cell \u001b[0;32mIn[93], line 1\u001b[0m\n\u001b[0;32m----> 1\u001b[0m plt\u001b[38;5;241m.\u001b[39mstackplot(aer_authors\u001b[38;5;241m.\u001b[39mvalues, \u001b[43maer_authors\u001b[49m\u001b[38;5;241;43m.\u001b[39;49m\u001b[43mcounts\u001b[49m)\n",
      "File \u001b[0;32m~/Documents/capstone/capstone/lib/python3.11/site-packages/pandas/core/generic.py:5989\u001b[0m, in \u001b[0;36mNDFrame.__getattr__\u001b[0;34m(self, name)\u001b[0m\n\u001b[1;32m   5982\u001b[0m \u001b[38;5;28;01mif\u001b[39;00m (\n\u001b[1;32m   5983\u001b[0m     name \u001b[38;5;129;01mnot\u001b[39;00m \u001b[38;5;129;01min\u001b[39;00m \u001b[38;5;28mself\u001b[39m\u001b[38;5;241m.\u001b[39m_internal_names_set\n\u001b[1;32m   5984\u001b[0m     \u001b[38;5;129;01mand\u001b[39;00m name \u001b[38;5;129;01mnot\u001b[39;00m \u001b[38;5;129;01min\u001b[39;00m \u001b[38;5;28mself\u001b[39m\u001b[38;5;241m.\u001b[39m_metadata\n\u001b[1;32m   5985\u001b[0m     \u001b[38;5;129;01mand\u001b[39;00m name \u001b[38;5;129;01mnot\u001b[39;00m \u001b[38;5;129;01min\u001b[39;00m \u001b[38;5;28mself\u001b[39m\u001b[38;5;241m.\u001b[39m_accessors\n\u001b[1;32m   5986\u001b[0m     \u001b[38;5;129;01mand\u001b[39;00m \u001b[38;5;28mself\u001b[39m\u001b[38;5;241m.\u001b[39m_info_axis\u001b[38;5;241m.\u001b[39m_can_hold_identifiers_and_holds_name(name)\n\u001b[1;32m   5987\u001b[0m ):\n\u001b[1;32m   5988\u001b[0m     \u001b[38;5;28;01mreturn\u001b[39;00m \u001b[38;5;28mself\u001b[39m[name]\n\u001b[0;32m-> 5989\u001b[0m \u001b[38;5;28;01mreturn\u001b[39;00m \u001b[38;5;28;43mobject\u001b[39;49m\u001b[38;5;241;43m.\u001b[39;49m\u001b[38;5;21;43m__getattribute__\u001b[39;49m\u001b[43m(\u001b[49m\u001b[38;5;28;43mself\u001b[39;49m\u001b[43m,\u001b[49m\u001b[43m \u001b[49m\u001b[43mname\u001b[49m\u001b[43m)\u001b[49m\n",
      "\u001b[0;31mAttributeError\u001b[0m: 'Series' object has no attribute 'counts'"
     ]
    }
   ],
   "source": [
    "plt.stackplot(aer_authors.values, aer_authors.counts)"
   ]
  },
  {
   "cell_type": "code",
   "execution_count": null,
   "id": "df302417",
   "metadata": {},
   "outputs": [],
   "source": []
  }
 ],
 "metadata": {
  "kernelspec": {
   "display_name": "Python 3 (ipykernel)",
   "language": "python",
   "name": "python3"
  },
  "language_info": {
   "codemirror_mode": {
    "name": "ipython",
    "version": 3
   },
   "file_extension": ".py",
   "mimetype": "text/x-python",
   "name": "python",
   "nbconvert_exporter": "python",
   "pygments_lexer": "ipython3",
   "version": "3.11.2"
  }
 },
 "nbformat": 4,
 "nbformat_minor": 5
}
