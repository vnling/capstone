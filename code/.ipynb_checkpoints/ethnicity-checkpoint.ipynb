{
 "cells": [
  {
   "cell_type": "code",
   "execution_count": 2,
   "id": "87022f86",
   "metadata": {},
   "outputs": [],
   "source": [
    "import pandas as pd\n",
    "import matplotlib.pyplot as plt\n",
    "import matplotlib.ticker as mtick\n",
    "import seaborn as sns"
   ]
  },
  {
   "cell_type": "code",
   "execution_count": 3,
   "id": "c434f914",
   "metadata": {},
   "outputs": [],
   "source": [
    "def ethnicity_plot_total(journal):\n",
    "    authors = pd.read_csv(f\"../author_data/ethnicity/{journal}_authors_ethnicity.csv\").drop(\n",
    "        labels=['Unnamed: 0', 'PaperTitle', 'OnlineDate', 'JournalId', 'OriginalVenue', 'CreatedDate'], axis=1)\n",
    "    editors = pd.read_csv(f\"../editor_data/analysis/ethnicity/{journal}_editors_ethnicity.csv\", \n",
    "                              names=[\"Editor\", \"Ethnicity\", \"Probability\"])\n",
    "    \n",
    "    author_eth_percentage = (authors['Ethnicity'].value_counts() / len(authors))\n",
    "    editor_eth_percentage = (editors['Ethnicity'].value_counts() / len(editors))\n",
    "    author_eth_percentage = author_eth_percentage['W_NL']\n",
    "    editor_eth_percentage = editor_eth_percentage['W_NL']\n",
    "    \n",
    "    return {\"author\": float( '%.3f'%(author_eth_percentage)), \n",
    "            \"editor\": float( '%.3f'%(editor_eth_percentage))}"
   ]
  },
  {
   "cell_type": "code",
   "execution_count": 4,
   "id": "1cf49552",
   "metadata": {},
   "outputs": [],
   "source": [
    "\"\"\"\n",
    "returns percentage of authors and editors that are white as a dictionary\n",
    "\"\"\"\n",
    "def ethnicity_plot_each_year(author_data, editor_names, editor_ethnicities, year):\n",
    "    authors = pd.read_csv(author_data).drop(labels=['Unnamed: 0', 'PaperTitle', 'OnlineDate', 'JournalId', \n",
    "                                                    'OriginalVenue', 'CreatedDate'], axis=1)\n",
    "    editors = pd.read_csv(editor_names, names=[\"Editor\", \"Role\", \"x\", \"y\", \"z\"])\n",
    "    editor_eths = pd.read_csv(editor_ethnicities, names=[\"Editor\", \"Ethnicity\", \"Probability\"])\n",
    "    \n",
    "    authors = authors[authors['Year'] == year]\n",
    "    author_eth_percentage = -1\n",
    "    if len(authors) > 0:\n",
    "#         author_eths = authors[authors['Probability'] >= 0.90]\n",
    "        author_eth_percentage = (authors['Ethnicity'].value_counts() / len(authors))\n",
    "        if 'W_NL' in author_eth_percentage:\n",
    "            author_eth_percentage = author_eth_percentage['W_NL']\n",
    "        else:\n",
    "            author_eth_percentage = 0\n",
    "\n",
    "    editors = editors.join(editor_eths.set_index('Editor'), on=['Editor'], how='left')\n",
    "    editor_eth_percentage = -1\n",
    "    if len(editors) > 0:\n",
    "#         editors = editors[editors['Probability'] >= 0.90]\n",
    "        editor_eth_percentage = (editors['Ethnicity'].value_counts() / len(editors))\n",
    "        if 'W_NL' in editor_eth_percentage:\n",
    "            editor_eth_percentage = editor_eth_percentage['W_NL']\n",
    "        else:\n",
    "            editor_eth_percentage = 0\n",
    "        \n",
    "    return {\"author\": float( '%.3f'%(author_eth_percentage)), \n",
    "            \"editor\": float( '%.3f'%(editor_eth_percentage))}"
   ]
  },
  {
   "cell_type": "code",
   "execution_count": 5,
   "id": "ccff3c96",
   "metadata": {},
   "outputs": [],
   "source": [
    "def calculate_ethnicity_average(author_data, editor_names, editor_ethnicities, year):\n",
    "    authors = pd.read_csv(author_data).drop(labels=['Unnamed: 0', 'PaperTitle', 'OnlineDate', 'JournalId', \n",
    "                                                    'OriginalVenue', 'CreatedDate'], axis=1)\n",
    "    editors = pd.read_csv(editor_names, names=[\"Editor\", \"Role\", \"x\", \"y\", \"z\"])\n",
    "    editor_eths = pd.read_csv(editor_ethnicities, names=[\"Editor\", \"Ethnicity\", \"Probability\"])\n",
    "    \n",
    "    authors = authors[authors['Year'] == year]\n",
    "    author_res = 0\n",
    "    if len(authors) > 0:\n",
    "#         author_eths = authors[authors['Probability'] >= 0.90]\n",
    "        author_eth_percentage = authors['Ethnicity'].value_counts()\n",
    "        if 'W_NL' in author_eth_percentage:\n",
    "            author_res = author_eth_percentage['W_NL'] \n",
    "\n",
    "    editors = editors.join(editor_eths.set_index('Editor'), on=['Editor'], how='left')\n",
    "    editor_eth_percentage = 0\n",
    "    if len(editors) > 0:\n",
    "#         editors = editors[editors['Probability'] >= 0.90]\n",
    "        editor_eth_percentage = editors['Ethnicity'].value_counts()\n",
    "        if 'W_NL' in editor_eth_percentage:\n",
    "            editor_eth_percentage = editor_eth_percentage['W_NL']\n",
    "        \n",
    "    return {\"authorW\": author_res, \n",
    "            \"authortotal\": len(authors),\n",
    "            \"editorW\": editor_eth_percentage,\n",
    "            \"editortotal\": len(editors)\n",
    "           }"
   ]
  },
  {
   "cell_type": "code",
   "execution_count": 6,
   "id": "b1f2111f",
   "metadata": {},
   "outputs": [],
   "source": [
    "\"\"\"\n",
    "returns percentage of authors and editors that are white (in year buckets) as a dictionary\n",
    "\"\"\"\n",
    "def ethnicity_plot_buckets(author_data, editor_ethnicities, journal, start, end, magic):\n",
    "    authors = pd.read_csv(author_data).drop(labels=['Unnamed: 0', 'PaperTitle', 'OnlineDate', 'JournalId', \n",
    "                                                    'OriginalVenue', 'CreatedDate'], axis=1)\n",
    "    editor_eths = pd.read_csv(editor_ethnicities, names=[\"Editor\", \"Ethnicity\", \"Probability\"])\n",
    "    \n",
    "    bucket_authors = pd.DataFrame()\n",
    "    for i in range(start, end+1):\n",
    "        bucket_authors = pd.concat([bucket_authors, authors[authors['Year'] == i]])\n",
    "    author_eth_percentage = -1\n",
    "    if len(bucket_authors) > 0:\n",
    "#         author_eths = bucket_authors[bucket_authors['GenderProbability'] >= 0.90]\n",
    "        author_eth_percentage = (bucket_authors['Ethnicity'].value_counts() / len(bucket_authors))\n",
    "        if 'W_NL' in author_eth_percentage:\n",
    "            author_eth_percentage = author_eth_percentage['W_NL']\n",
    "        else:\n",
    "            author_eth_percentage = 0\n",
    "            \n",
    "    bucket_editors = pd.DataFrame()\n",
    "    for j in range(start, end+1):\n",
    "        k = j - magic\n",
    "        editors = pd.read_csv(f\"../editor_data/extracted_names/{journal}/{journal}.{k}.extracted.txt\", \n",
    "                              names=[\"Editor\", \"Role\", \"x\", \"y\", \"z\"])\n",
    "        editors = editors.join(editor_eths.set_index('Editor'), on=['Editor'], how='left')\n",
    "        bucket_editors = pd.concat([bucket_editors, editors])\n",
    "    editor_eth_percentage = -1\n",
    "    if len(bucket_editors) > 0:\n",
    "#         bucket_editors = bucket_editors[bucket_editors['Probability'] >= 0.90]\n",
    "        editor_eth_percentage = (bucket_editors['Ethnicity'].value_counts() / len(bucket_editors))\n",
    "        if 'W_NL' in editor_eth_percentage:\n",
    "            editor_eth_percentage = editor_eth_percentage['W_NL']\n",
    "        else:\n",
    "            editor_eth_percentage = 0\n",
    "    \n",
    "    return {\"author\": float( '%.3f'%(author_eth_percentage)), \n",
    "            \"editor\": float( '%.3f'%(editor_eth_percentage))}"
   ]
  },
  {
   "cell_type": "code",
   "execution_count": 7,
   "id": "07afbda4",
   "metadata": {},
   "outputs": [],
   "source": [
    "\"\"\"\n",
    "gets aggregate results across all available years for a journal\n",
    "\"\"\"\n",
    "def call_ethnicity_plot_year(journal, start, end, magic):\n",
    "    aggregate = {}\n",
    "    for i in range(start, end+1):\n",
    "#         res = ethnicity_plot_each_year(f\"../author_data/ethnicity/{journal}_authors_ethnicity.csv\", \n",
    "#                                     f\"../editor_data/extracted_names/{journal}/{journal}.{i}.extracted.txt\", \n",
    "#                                     f\"../editor_data/analysis/ethnicity/{journal}_editors_ethnicity.csv\", \n",
    "#                                     magic+i)\n",
    "        res = calculate_ethnicity_average(f\"../author_data/ethnicity/{journal}_authors_ethnicity.csv\", \n",
    "                                    f\"../editor_data/extracted_names/{journal}/{journal}.{i}.extracted.txt\", \n",
    "                                    f\"../editor_data/analysis/ethnicity/{journal}_editors_ethnicity.csv\", \n",
    "                                    magic+i)\n",
    "        aggregate[magic+i] = res\n",
    "    return aggregate"
   ]
  },
  {
   "cell_type": "code",
   "execution_count": 8,
   "id": "2aa792c4",
   "metadata": {},
   "outputs": [],
   "source": [
    "def call_ethnicity_plot_bucket(journal, start, end, magic):\n",
    "    aggregate = {}\n",
    "    cutoff = start + 4\n",
    "    \n",
    "    while cutoff <= end:\n",
    "        res = ethnicity_plot_buckets(f\"../author_data/ethnicity/{journal}_authors_ethnicity.csv\",\n",
    "                                  f\"../editor_data/analysis/ethnicity/{journal}_editors_ethnicity.csv\",\n",
    "                                  journal, start, cutoff, magic)\n",
    "        aggregate[f\"{start}-{cutoff}\"] = res\n",
    "        start += 5\n",
    "        cutoff += 5\n",
    "\n",
    "    if start <= end:\n",
    "        res = ethnicity_plot_buckets(f\"../author_data/ethnicity/{journal}_authors_ethnicity.csv\",\n",
    "                                  f\"../editor_data/analysis/ethnicity/{journal}_editors_ethnicity.csv\",\n",
    "                                  journal, start, end, magic)\n",
    "        aggregate[f\"{start}-{end}\"] = res\n",
    "    return aggregate"
   ]
  },
  {
   "cell_type": "code",
   "execution_count": 27,
   "id": "3a502971",
   "metadata": {},
   "outputs": [],
   "source": [
    "aer_eth = call_ethnicity_plot_year(\"aer\", 84, 113, 1910)\n",
    "eco_eth  = call_ethnicity_plot_year(\"eco\", 75, 91, 1932)\n",
    "jpe_eth  = call_ethnicity_plot_year(\"jpe\", 125, 131, 1892)\n",
    "qje_eth  = call_ethnicity_plot_year(\"qje\", 109, 138, 1885)\n",
    "res_eth = call_ethnicity_plot_year(\"res\", 61, 90, 1933)"
   ]
  },
  {
   "cell_type": "code",
   "execution_count": 28,
   "id": "8629152f",
   "metadata": {},
   "outputs": [],
   "source": [
    "def calculate_overall(data):\n",
    "    total_authorsW = 0\n",
    "    total_editorsW = 0\n",
    "    total_authors = 0\n",
    "    total_editors = 0\n",
    "    \n",
    "    buckets = [1994, 1999, 2004, 2009, 2014, 2019, 2024]\n",
    "    \n",
    "    for journal in data:\n",
    "        for year in sorted(journal.keys()):\n",
    "            total_authorsW += journal[year]['authorW']\n",
    "            total_authors += journal[year]['authortotal']\n",
    "            total_editorsW += journal[year]['editorW']\n",
    "            total_editors += journal[year]['editortotal']\n",
    "            \n",
    "    bucketed_authors = []\n",
    "    bucketed_editors = []\n",
    "    for i in range(len(buckets)-1):\n",
    "        bucket_authorsW = 0\n",
    "        bucket_authors = 0\n",
    "        bucket_editorsW = 0\n",
    "        bucket_editors = 0\n",
    "        for journal in data:\n",
    "            for j in range(5): #within this bucket\n",
    "                bucket_authorsW += journal.get(buckets[i]+j, {}).get('authorW', 0)\n",
    "                bucket_authors += journal.get(buckets[i]+j, {}).get('authortotal', 0)\n",
    "                bucket_editorsW += journal.get(buckets[i]+j, {}).get('editorW', 0)\n",
    "                bucket_editors += journal.get(buckets[i]+j, {}).get('editortotal', 0)\n",
    "        bucketed_authors.append(bucket_authorsW/bucket_authors)\n",
    "        bucketed_editors.append(bucket_editorsW/bucket_editors)\n",
    "    \n",
    "    return float(total_authorsW/total_authors), total_editorsW/total_editors, bucketed_authors, bucketed_editors"
   ]
  },
  {
   "cell_type": "code",
   "execution_count": 29,
   "id": "46ab3337",
   "metadata": {},
   "outputs": [],
   "source": [
    "all_authors, all_editors, authors, editors = calculate_overall([aer_eth, eco_eth, jpe_eth, qje_eth, res_eth])"
   ]
  },
  {
   "cell_type": "code",
   "execution_count": 30,
   "id": "e4529efc",
   "metadata": {},
   "outputs": [
    {
     "data": {
      "text/plain": [
       "[0.37037037037037035,\n",
       " 0.3114754098360656,\n",
       " 0.30000000000000004,\n",
       " 0.37142857142857144,\n",
       " 0.4031007751937985,\n",
       " 0.43181818181818177]"
      ]
     },
     "execution_count": 30,
     "metadata": {},
     "output_type": "execute_result"
    }
   ],
   "source": [
    "[1-x for x in authors]"
   ]
  },
  {
   "cell_type": "code",
   "execution_count": 31,
   "id": "4bc01129",
   "metadata": {},
   "outputs": [
    {
     "data": {
      "text/plain": [
       "[0.6048387096774194,\n",
       " 0.6619964973730298,\n",
       " 0.7018544935805991,\n",
       " 0.7163120567375887,\n",
       " 0.6773399014778325,\n",
       " 0.6549202127659575]"
      ]
     },
     "execution_count": 31,
     "metadata": {},
     "output_type": "execute_result"
    }
   ],
   "source": [
    "editors"
   ]
  },
  {
   "cell_type": "code",
   "execution_count": 32,
   "id": "b6c99590",
   "metadata": {},
   "outputs": [
    {
     "data": {
      "text/plain": [
       "0.37010676156583633"
      ]
     },
     "execution_count": 32,
     "metadata": {},
     "output_type": "execute_result"
    }
   ],
   "source": [
    "1-all_authors"
   ]
  },
  {
   "cell_type": "code",
   "execution_count": 33,
   "id": "00bc9baf",
   "metadata": {},
   "outputs": [
    {
     "data": {
      "text/plain": [
       "0.32682125251049843"
      ]
     },
     "execution_count": 33,
     "metadata": {},
     "output_type": "execute_result"
    }
   ],
   "source": [
    "1-all_editors"
   ]
  },
  {
   "cell_type": "code",
   "execution_count": 34,
   "id": "c0542a21",
   "metadata": {},
   "outputs": [],
   "source": [
    "aer_buckets = call_ethnicity_plot_bucket(\"aer\", 1994, 2023, 1910)\n",
    "eco_buckets = call_ethnicity_plot_bucket(\"eco\", 2007, 2023, 1932)\n",
    "jpe_buckets = call_ethnicity_plot_bucket(\"jpe\", 2017, 2023, 1892)\n",
    "qje_buckets = call_ethnicity_plot_bucket(\"qje\", 1994, 2023, 1885)\n",
    "res_buckets = call_ethnicity_plot_bucket(\"res\", 1994, 2023, 1933)"
   ]
  },
  {
   "cell_type": "code",
   "execution_count": 35,
   "id": "7b995fe9",
   "metadata": {},
   "outputs": [],
   "source": [
    "def plot_ethnicity_aggregate(authors, editors, all_authors, all_editors, years):\n",
    "    total_authors = [1-all_authors for _ in range(len(years))]\n",
    "    total_editors = [1-all_editors for _ in range(len(years))]\n",
    "    \n",
    "    authors_plot = [0 for _ in range(len(authors))]\n",
    "    editors_plot = [0 for _ in range(len(editors))]\n",
    "    for i in range(len(years)):\n",
    "        authors_plot[i] = 1-authors[i]\n",
    "        editors_plot[i] = 1-editors[i]\n",
    "    \n",
    "    axes = plt.axes()\n",
    "    axes.set_ylim([0, 1])\n",
    "    plt.rcParams[\"figure.figsize\"] = [6.5, 6]\n",
    "    plt.rcParams[\"figure.autolayout\"] = True\n",
    "    plt.plot(years, total_authors, label='total authors', color=\"#f34d4d\", linestyle='dashed', alpha=0.5, lw=2)\n",
    "    plt.plot(years, total_editors, label='total editors', color=\"#69bade\", linestyle='dashed', alpha=0.5, lw=2)\n",
    "    plt.plot(years, authors_plot, label='authors', color=\"#f34d4d\", lw=2.5)\n",
    "    plt.plot(years, editors_plot, label='editors', color=\"#69bade\", lw=2.5)\n",
    "    plt.title(f'Percentage of Non-White Contributors Across the \"Top Five\"')\n",
    "    plt.xticks(years, rotation=15)\n",
    "    ax = plt.gca()\n",
    "    ax.yaxis.set_major_formatter(mtick.PercentFormatter(1.0))\n",
    "    ax.spines[['right', 'top']].set_visible(False)\n",
    "#     plt.legend()\n",
    "    plt.savefig(f'../graphs/aggregate_ethnicity.png')\n",
    "    plt.show()"
   ]
  },
  {
   "cell_type": "code",
   "execution_count": 36,
   "id": "2e7c4c41",
   "metadata": {},
   "outputs": [
    {
     "data": {
      "image/png": "[encoded data removed]",
      "text/plain": [
       "<Figure size 650x600 with 1 Axes>"
      ]
     },
     "metadata": {},
     "output_type": "display_data"
    }
   ],
   "source": [
    "plot_ethnicity_aggregate(authors, editors, all_authors, all_editors, \n",
    "                         ['1994-1998', '1999-2003', '2004-2008', '2009-2013', '2014-2018', '2019-2023'])"
   ]
  },
  {
   "cell_type": "code",
   "execution_count": 37,
   "id": "627f75d0",
   "metadata": {},
   "outputs": [],
   "source": [
    "def plot_ethnicity(journal, data):\n",
    "    total = ethnicity_plot_total(journal)\n",
    "    years = sorted(data.keys())\n",
    "    total_authors = [1-total['author'] for _ in range(len(years))]\n",
    "    total_editors = [1-total['editor'] for _ in range(len(years))]\n",
    "    \n",
    "    print(total)\n",
    "    \n",
    "#     authors = []\n",
    "#     editors = []\n",
    "#     for year in years:\n",
    "#         if data[year]['author'] == -1:\n",
    "#             authors.append(0)\n",
    "#         else:\n",
    "#             authors.append(1-data[year]['author'])\n",
    "#         if data[year]['editor'] == -1:\n",
    "#             editors.append(0)\n",
    "#         else:\n",
    "#             editors.append(1-data[year]['editor'])\n",
    "    \n",
    "    axes = plt.axes()\n",
    "    axes.set_ylim([0, 1])\n",
    "    print(f\"{journal} author average\", total_authors)\n",
    "    print(f\"{journal} editor average\", total_editors)\n",
    "    plt.plot(years, total_authors, label='total authors', color=\"#f34d4d\", linestyle='dashed', alpha=0.5, lw=2)\n",
    "    plt.plot(years, total_editors, label='total editors', color=\"#69bade\", linestyle='dashed', alpha=0.5, lw=2)\n",
    "    plt.plot(years, authors, label='authors', color=\"#f34d4d\", lw=2.5)\n",
    "    plt.plot(years, editors, label='editors', color=\"#69bade\", lw=2.5)\n",
    "    plt.title(f'Percentage of Non-White Contributors at {journal.upper()}')\n",
    "    plt.xticks(years, rotation=15)\n",
    "    ax = plt.gca()\n",
    "    ax.yaxis.set_major_formatter(mtick.PercentFormatter(1.0))\n",
    "    ax.spines[['right', 'top']].set_visible(False)\n",
    "#     plt.legend()\n",
    "    plt.savefig(f'../graphs/{journal}_ethnicity.png')\n",
    "    plt.show()"
   ]
  },
  {
   "cell_type": "code",
   "execution_count": 38,
   "id": "be578c6e",
   "metadata": {
    "scrolled": false
   },
   "outputs": [
    {
     "ename": "KeyError",
     "evalue": "'author'",
     "output_type": "error",
     "traceback": [
      "\u001b[0;31m---------------------------------------------------------------------------\u001b[0m",
      "\u001b[0;31mKeyError\u001b[0m                                  Traceback (most recent call last)",
      "Cell \u001b[0;32mIn[38], line 6\u001b[0m\n\u001b[1;32m      1\u001b[0m \u001b[38;5;124;03m\"\"\"\u001b[39;00m\n\u001b[1;32m      2\u001b[0m \u001b[38;5;124;03mbucketized\u001b[39;00m\n\u001b[1;32m      3\u001b[0m \u001b[38;5;124;03m\"\"\"\u001b[39;00m\n\u001b[1;32m      4\u001b[0m \u001b[38;5;66;03m# plot_ethnicity(\"aer\", aer_buckets)\u001b[39;00m\n\u001b[1;32m      5\u001b[0m \u001b[38;5;66;03m# plot_ethnicity(\"eco\", eco_buckets)\u001b[39;00m\n\u001b[0;32m----> 6\u001b[0m \u001b[43mplot_ethnicity\u001b[49m\u001b[43m(\u001b[49m\u001b[38;5;124;43m\"\u001b[39;49m\u001b[38;5;124;43mjpe\u001b[39;49m\u001b[38;5;124;43m\"\u001b[39;49m\u001b[43m,\u001b[49m\u001b[43m \u001b[49m\u001b[43mjpe_eth\u001b[49m\u001b[43m)\u001b[49m\n\u001b[1;32m      7\u001b[0m \u001b[38;5;66;03m# plot_ethnicity(\"qje\", qje_buckets)\u001b[39;00m\n\u001b[1;32m      8\u001b[0m \u001b[38;5;66;03m# plot_ethnicity(\"res\", res_buckets)\u001b[39;00m\n",
      "Cell \u001b[0;32mIn[37], line 10\u001b[0m, in \u001b[0;36mplot_ethnicity\u001b[0;34m(journal, data)\u001b[0m\n\u001b[1;32m      8\u001b[0m editors \u001b[38;5;241m=\u001b[39m []\n\u001b[1;32m      9\u001b[0m \u001b[38;5;28;01mfor\u001b[39;00m year \u001b[38;5;129;01min\u001b[39;00m years:\n\u001b[0;32m---> 10\u001b[0m     \u001b[38;5;28;01mif\u001b[39;00m \u001b[43mdata\u001b[49m\u001b[43m[\u001b[49m\u001b[43myear\u001b[49m\u001b[43m]\u001b[49m\u001b[43m[\u001b[49m\u001b[38;5;124;43m'\u001b[39;49m\u001b[38;5;124;43mauthor\u001b[39;49m\u001b[38;5;124;43m'\u001b[39;49m\u001b[43m]\u001b[49m \u001b[38;5;241m==\u001b[39m \u001b[38;5;241m-\u001b[39m\u001b[38;5;241m1\u001b[39m:\n\u001b[1;32m     11\u001b[0m         authors\u001b[38;5;241m.\u001b[39mappend(\u001b[38;5;241m0\u001b[39m)\n\u001b[1;32m     12\u001b[0m     \u001b[38;5;28;01melse\u001b[39;00m:\n",
      "\u001b[0;31mKeyError\u001b[0m: 'author'"
     ]
    }
   ],
   "source": [
    "\"\"\"\n",
    "bucketized\n",
    "\"\"\"\n",
    "# plot_ethnicity(\"aer\", aer_buckets)\n",
    "# plot_ethnicity(\"eco\", eco_buckets)\n",
    "plot_ethnicity(\"jpe\", jpe_eth)\n",
    "# plot_ethnicity(\"qje\", qje_buckets)\n",
    "# plot_ethnicity(\"res\", res_buckets)"
   ]
  },
  {
   "cell_type": "code",
   "execution_count": null,
   "id": "7aa0f9bd",
   "metadata": {},
   "outputs": [],
   "source": []
  },
  {
   "cell_type": "code",
   "execution_count": null,
   "id": "1a6a486c",
   "metadata": {},
   "outputs": [],
   "source": []
  }
 ],
 "metadata": {
  "kernelspec": {
   "display_name": "Python 3 (ipykernel)",
   "language": "python",
   "name": "python3"
  },
  "language_info": {
   "codemirror_mode": {
    "name": "ipython",
    "version": 3
   },
   "file_extension": ".py",
   "mimetype": "text/x-python",
   "name": "python",
   "nbconvert_exporter": "python",
   "pygments_lexer": "ipython3",
   "version": "3.11.2"
  }
 },
 "nbformat": 4,
 "nbformat_minor": 5
}
